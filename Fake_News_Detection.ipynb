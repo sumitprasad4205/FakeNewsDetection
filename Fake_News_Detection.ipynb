{
  "nbformat": 4,
  "nbformat_minor": 0,
  "metadata": {
    "colab": {
      "provenance": []
    },
    "kernelspec": {
      "name": "python3",
      "display_name": "Python 3"
    },
    "language_info": {
      "name": "python"
    }
  },
  "cells": [
    {
      "cell_type": "code",
      "execution_count": 1,
      "metadata": {
        "colab": {
          "base_uri": "https://localhost:8080/"
        },
        "id": "vmFAgx34h9i8",
        "outputId": "3804ea8a-9b21-470f-a2ef-3aac2595c303"
      },
      "outputs": [
        {
          "output_type": "stream",
          "name": "stdout",
          "text": [
            "✅ Libraries imported successfully!\n"
          ]
        }
      ],
      "source": [
        "import pandas as pd\n",
        "from sklearn.model_selection import train_test_split\n",
        "from sklearn.feature_extraction.text import TfidfVectorizer\n",
        "from sklearn.linear_model import PassiveAggressiveClassifier\n",
        "from sklearn.metrics import accuracy_score, confusion_matrix, classification_report\n",
        "\n",
        "print(\"✅ Libraries imported successfully!\")"
      ]
    },
    {
      "cell_type": "code",
      "source": [
        "url = (\"fake_news_datset.csv\")\n",
        "data = pd.read_csv(url)\n",
        "print(\"✅ Dataset loaded successfully!\")\n",
        "\n"
      ],
      "metadata": {
        "colab": {
          "base_uri": "https://localhost:8080/"
        },
        "id": "Ry-J6TWRiSCj",
        "outputId": "2241e5c7-6a79-47b4-ba88-1d09f35238bf"
      },
      "execution_count": 4,
      "outputs": [
        {
          "output_type": "stream",
          "name": "stdout",
          "text": [
            "✅ Dataset loaded successfully!\n"
          ]
        }
      ]
    },
    {
      "cell_type": "code",
      "source": [
        "data = data.dropna()\n",
        "\n",
        "# Features and labels\n",
        "\n",
        "X = data['text']\n",
        "y = data['label']\n",
        "\n",
        "# Split into training and testing sets\n",
        "\n",
        "X_train, X_test, y_train, y_test = train_test_split(X, y, test_size=0.2, random_state=42)\n",
        "print(\"✅ Data prepared for training!\")\n"
      ],
      "metadata": {
        "colab": {
          "base_uri": "https://localhost:8080/"
        },
        "id": "F0mdgSbniSKo",
        "outputId": "342b78f8-2576-467b-ea78-ccdfc260e49b"
      },
      "execution_count": 5,
      "outputs": [
        {
          "output_type": "stream",
          "name": "stdout",
          "text": [
            "✅ Data prepared for training!\n"
          ]
        }
      ]
    },
    {
      "cell_type": "code",
      "source": [
        "tfidf_vectorizer = TfidfVectorizer(stop_words='english', max_df=0.7)\n",
        "tfidf_train = tfidf_vectorizer.fit_transform(X_train)\n",
        "tfidf_test = tfidf_vectorizer.transform(X_test)\n",
        "print(\"✅ Text converted to numerical vectors!\")"
      ],
      "metadata": {
        "colab": {
          "base_uri": "https://localhost:8080/"
        },
        "id": "hznUcwaliwY8",
        "outputId": "0a3110e4-ea03-43ae-e152-5e15028103f9"
      },
      "execution_count": 6,
      "outputs": [
        {
          "output_type": "stream",
          "name": "stdout",
          "text": [
            "✅ Text converted to numerical vectors!\n"
          ]
        }
      ]
    },
    {
      "cell_type": "code",
      "source": [
        "model = PassiveAggressiveClassifier(max_iter=50)\n",
        "model.fit(tfidf_train, y_train)\n",
        "print(\"✅ Model trained successfully!\")"
      ],
      "metadata": {
        "colab": {
          "base_uri": "https://localhost:8080/"
        },
        "id": "01ydn5vriwfa",
        "outputId": "d87dbc6c-fb90-4ae6-ad6f-67ab43d624f3"
      },
      "execution_count": 7,
      "outputs": [
        {
          "output_type": "stream",
          "name": "stdout",
          "text": [
            "✅ Model trained successfully!\n"
          ]
        }
      ]
    },
    {
      "cell_type": "code",
      "source": [
        "from sklearn.metrics import accuracy_score, confusion_matrix, classification_report\n",
        "\n",
        "y_pred = model.predict(tfidf_test)\n",
        "acc = accuracy_score(y_test, y_pred)\n",
        "\n",
        "print(f\"✅ Accuracy: {round(acc * 100, 2)}%\")\n",
        "print(\"\\nConfusion Matrix:\\n\", confusion_matrix(y_test, y_pred))\n",
        "print(\"\\nClassification Report:\\n\", classification_report(y_test, y_pred, zero_division=0))\n",
        "\n"
      ],
      "metadata": {
        "colab": {
          "base_uri": "https://localhost:8080/"
        },
        "id": "tEm4d3Izi6f4",
        "outputId": "f3a9dfe4-e1d6-4e99-aae9-dc3c4ec53dcc"
      },
      "execution_count": 11,
      "outputs": [
        {
          "output_type": "stream",
          "name": "stdout",
          "text": [
            "✅ Accuracy: 50.0%\n",
            "\n",
            "Confusion Matrix:\n",
            " [[0 1]\n",
            " [0 1]]\n",
            "\n",
            "Classification Report:\n",
            "               precision    recall  f1-score   support\n",
            "\n",
            "        FAKE       0.00      0.00      0.00         1\n",
            "        REAL       0.50      1.00      0.67         1\n",
            "\n",
            "    accuracy                           0.50         2\n",
            "   macro avg       0.25      0.50      0.33         2\n",
            "weighted avg       0.25      0.50      0.33         2\n",
            "\n"
          ]
        }
      ]
    },
    {
      "cell_type": "code",
      "source": [
        "sample_news = [\n",
        "\"NASA discovers new habitable planet beyond our solar system!\",\n",
        "\"Celebrity says earth is flat and moon landing was fake.\"\n",
        "]\n",
        "\n",
        "sample_features = tfidf_vectorizer.transform(sample_news)\n",
        "predictions = model.predict(sample_features)\n",
        "\n",
        "for news, label in zip(sample_news, predictions):\n",
        "      result = \"✅ REAL NEWS\" if label == 'REAL' else \"🚫 FAKE NEWS\"\n",
        "print(f\"\\n📰 '{news}' → {result}\")"
      ],
      "metadata": {
        "colab": {
          "base_uri": "https://localhost:8080/"
        },
        "id": "4rHV6piQi6jw",
        "outputId": "04249ef6-7272-4479-a8af-278cd2f71f99"
      },
      "execution_count": 12,
      "outputs": [
        {
          "output_type": "stream",
          "name": "stdout",
          "text": [
            "\n",
            "📰 'Celebrity says earth is flat and moon landing was fake.' → 🚫 FAKE NEWS\n"
          ]
        }
      ]
    },
    {
      "cell_type": "code",
      "source": [],
      "metadata": {
        "id": "PAXS9S3Hi6pq"
      },
      "execution_count": null,
      "outputs": []
    }
  ]
}